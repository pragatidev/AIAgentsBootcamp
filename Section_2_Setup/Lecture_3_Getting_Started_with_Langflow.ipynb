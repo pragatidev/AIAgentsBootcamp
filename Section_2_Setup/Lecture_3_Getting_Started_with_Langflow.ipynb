{
 "cells": [
  {
   "cell_type": "markdown",
   "id": "8a5cdd6b",
   "metadata": {},
   "source": [
    "# 🚀 Lecture 3: Getting Started with Langflow\n",
    "Welcome back to the **AI Agents Bootcamp: Build and Deploy Workflow Automation**!\n",
    "\n",
    "In the last lecture, we introduced **LangChain** and how it helps us build smart, programmable AI agents.\n",
    "Now, let’s take a leap forward with **Langflow** — a **visual design tool** that makes AI agent creation more intuitive and beginner-friendly."
   ]
  },
  {
   "cell_type": "markdown",
   "id": "bef295cf",
   "metadata": {},
   "source": [
    "## ❓ What is Langflow?\n",
    "Langflow is an open-source **visual interface** built on top of LangChain.\n",
    "\n",
    "Instead of writing code, you can simply **drag and drop components** to visually build workflows for your AI agents.\n",
    "\n",
    "🔧 Think of Langflow like the ‘Figma for AI workflows’ — allowing you to prototype quickly, experiment freely, and understand how components connect."
   ]
  },
  {
   "cell_type": "markdown",
   "id": "ec19274c",
   "metadata": {},
   "source": [
    "## 💡 Why use Langflow?\n",
    "Before we get our hands dirty, here’s why Langflow is worth learning:\n",
    "\n",
    "- 🧱 **Visual Workflow**: Build agents without writing code.\n",
    "- 🧠 **Understand the Flow**: Perfect for learning how LangChain components work together.\n",
    "- 🔄 **Iterate Fast**: No need to run and debug Python code repeatedly.\n",
    "- 🔌 **Plug and Play**: Integrate GPT-4, APIs, memory, and other tools visually.\n",
    "\n",
    "Langflow helps you **design, test, and experiment** before moving to complex code logic."
   ]
  },
  {
   "cell_type": "markdown",
   "id": "bd30bdd1",
   "metadata": {},
   "source": [
    "## 🛠️ Step-by-Step: Run Langflow in Your Browser\n",
    "Let’s run Langflow and get hands-on!\n",
    "\n",
    "Make sure your virtual environment is activated and `langflow` is installed."
   ]
  },
  {
   "cell_type": "code",
   "execution_count": null,
   "id": "86454d4c",
   "metadata": {},
   "outputs": [],
   "source": [
    "# Run this command in a terminal, NOT inside the notebook\n",
    "!langflow run"
   ]
  },
  {
   "cell_type": "markdown",
   "id": "8372fa93",
   "metadata": {},
   "source": [
    "Once Langflow launches successfully, open your browser and go to:\n",
    "\n",
    "🔗 [http://localhost:7860](http://localhost:7860)\n",
    "\n",
    "You should see the Langflow interface like this:\n",
    "\n",
    "👉 ‘Start building’ → Click on **New Flow**"
   ]
  },
  {
   "cell_type": "markdown",
   "id": "8ded9964",
   "metadata": {},
   "source": [
    "## 🧪 Let’s Build Your First Agent (No Code!)\n",
    "Inside Langflow, do the following:\n",
    "- Click **New Project**\n",
    "- Drag a **Prompt** block → set template: `Repeat this: {input}`\n",
    "- Drag an **OpenAI** block → your API key should load from `.env`\n",
    "- Drag a **Chat Output** block\n",
    "- Connect blocks: `Chat Input → Prompt → OpenAI → Chat Output`\n",
    "- Hit **Run** and test with input like: `Hello Langflow!`"
   ]
  },
  {
   "cell_type": "markdown",
   "id": "794c77cc",
   "metadata": {},
   "source": [
    "## 🧠 What Just Happened?\n",
    "This simple flow mimics what LangChain does in code:\n",
    "- You gave an **instruction** (Prompt)\n",
    "- The system used **GPT-4** behind the scenes\n",
    "- The result was shown via **ChatOutput**\n",
    "\n",
    "Langflow makes all of this accessible **without code**, helping you understand the pieces before coding."
   ]
  },
  {
   "cell_type": "markdown",
   "id": "a5ec383e",
   "metadata": {},
   "source": [
    "## 🧰 What’s Next?\n",
    "If you’re more advanced, here’s what you can try next:\n",
    "- Add **memory** blocks to let agents remember.\n",
    "- Use **toolkits** to integrate external APIs.\n",
    "- Chain multiple prompts together for multi-step reasoning.\n",
    "\n",
    "You’ll learn these in upcoming lectures. For now, explore and have fun!"
   ]
  },
  {
   "cell_type": "markdown",
   "id": "1eec55c0",
   "metadata": {},
   "source": [
    "## ✅ Wrap-up\n",
    "In this lecture, we visually created our first AI agent using **Langflow**.\n",
    "\n",
    "You now know:\n",
    "- What Langflow is\n",
    "- Why it's useful\n",
    "- How to run it and build your first no-code agent\n",
    "\n",
    "Next up, we’ll connect GPT-4 with Langflow to unlock real capabilities. Stay curious and keep building!\n",
    "\n",
    "👉 **Let us know what you built! Share your flow or questions in the Q&A tab.**"
   ]
  }
 ],
 "metadata": {
  "kernelspec": {
   "display_name": ".venv",
   "language": "python",
   "name": "python3"
  },
  "language_info": {
   "codemirror_mode": {
    "name": "ipython",
    "version": 3
   },
   "file_extension": ".py",
   "mimetype": "text/x-python",
   "name": "python",
   "nbconvert_exporter": "python",
   "pygments_lexer": "ipython3",
   "version": "3.11.9"
  }
 },
 "nbformat": 4,
 "nbformat_minor": 5
}
