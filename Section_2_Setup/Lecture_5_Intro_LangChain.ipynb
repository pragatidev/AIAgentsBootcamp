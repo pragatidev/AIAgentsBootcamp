{
 "cells": [
  {
   "cell_type": "markdown",
   "id": "2564fbe8",
   "metadata": {},
   "source": [
    "# 🧠 Lecture 2: Introduction to LangChain\n",
    "Welcome to the second lecture of the AI Agents Bootcamp! In this notebook, you'll follow along with the concepts we just discussed."
   ]
  },
  {
   "cell_type": "markdown",
   "id": "d8e0bd7f",
   "metadata": {},
   "source": [
    "## 📘 What is LangChain?\n",
    "LangChain is a powerful Python framework designed to help you build applications powered by large language models (LLMs) like GPT-4.\n",
    "\n",
    "Think of LangChain as a **construction toolkit**—it helps you add memory, decision logic, and tool access to language models, so they behave more like smart assistants or agents rather than just chatbots."
   ]
  },
  {
   "cell_type": "markdown",
   "id": "630f1c3f",
   "metadata": {},
   "source": [
    "## 💡 Why use LangChain?\n",
    "LLMs alone are good at generating responses, but they can’t:\n",
    "- Remember things from earlier in a conversation\n",
    "- Decide what tool to use\n",
    "- Integrate with APIs, documents, or databases\n",
    "\n",
    "LangChain makes it easy to do all that. It connects your LLM to memory, tools, and custom workflows—so your AI agent can **think, decide, and act**."
   ]
  },
  {
   "cell_type": "markdown",
   "id": "65e60ef4",
   "metadata": {},
   "source": [
    "## ⚙️ How does LangChain work?\n",
    "Here's a simple visual representation you can draw or imagine:\n",
    "\n",
    "```\n",
    "User Query --> LangChain PromptTemplate --> LLM (like GPT-4) --> Result\n",
    "                                 ⬇\n",
    "                        Memory / Tools / APIs\n",
    "```\n",
    "\n",
    "LangChain sits between your user input and the LLM. It manages prompts, memory, tools, and output formatting."
   ]
  },
  {
   "cell_type": "markdown",
   "id": "ce5da543",
   "metadata": {},
   "source": [
    "## 🛠️ Let's Try It Out - PromptTemplate Demo"
   ]
  },
  {
   "cell_type": "code",
   "execution_count": null,
   "id": "cb0efc44",
   "metadata": {},
   "outputs": [
    {
     "ename": "",
     "evalue": "",
     "output_type": "error",
     "traceback": [
      "\u001b[1;31mRunning cells with '.venv (Python 3.11.9)' requires the ipykernel package.\n",
      "\u001b[1;31mRun the following command to install 'ipykernel' into the Python environment. \n",
      "\u001b[1;31mCommand: 'c:/Users/praga/AI_Agents_Bootcamp/.venv/Scripts/python.exe -m pip install ipykernel -U --force-reinstall'"
     ]
    }
   ],
   "source": [
    "\n",
    "from langchain import PromptTemplate\n",
    "\n",
    "# Create a reusable prompt structure\n",
    "prompt = PromptTemplate(\n",
    "    input_variables=[\"text\"],\n",
    "    template=\"Summarize this: {text}\"\n",
    ")\n",
    "\n",
    "# Use the prompt\n",
    "output = prompt.format(text=\"AI agents help automate tasks.\")\n",
    "print(output)\n"
   ]
  },
  {
   "cell_type": "markdown",
   "id": "07dbcf3e",
   "metadata": {},
   "source": [
    "✅ This prompt takes in a piece of text and tells the LLM to summarize it.\n",
    "\n",
    "LangChain helps you define these prompts clearly and reuse them. This is the building block for creating more advanced logic."
   ]
  },
  {
   "cell_type": "markdown",
   "id": "b3ad592e",
   "metadata": {},
   "source": [
    "## ⏭️ What’s Next\n",
    "In the next lecture, we’ll introduce **Langflow**, a visual interface that lets you design LangChain workflows without writing code.\n",
    "\n",
    "You'll learn how to:\n",
    "- Drag and drop agents, prompts, tools\n",
    "- Connect blocks visually to define your AI's behavior\n",
    "\n",
    "Great for both beginners and advanced users.\n",
    "\n",
    "🎯 See you in the next lecture!\n"
   ]
  }
 ],
 "metadata": {
  "kernelspec": {
   "display_name": ".venv",
   "language": "python",
   "name": "python3"
  },
  "language_info": {
   "name": "python",
   "version": "3.11.9"
  }
 },
 "nbformat": 4,
 "nbformat_minor": 5
}
