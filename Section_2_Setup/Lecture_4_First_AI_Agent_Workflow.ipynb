{
 "cells": [
  {
   "cell_type": "markdown",
   "id": "6035a55d",
   "metadata": {},
   "source": [
    "# 🤖 Lecture 5: Building Your First AI Agent Workflow"
   ]
  },
  {
   "cell_type": "markdown",
   "id": "72a04371",
   "metadata": {},
   "source": [
    "In this notebook, we’ll build a simple AI agent using LangChain and GPT-4. This agent will answer questions based on a prompt template."
   ]
  },
  {
   "cell_type": "markdown",
   "id": "0b9554a7",
   "metadata": {},
   "source": [
    "## 🔐 Step 1: Load OpenAI API Key from `.env`"
   ]
  },
  {
   "cell_type": "code",
   "execution_count": null,
   "id": "ee2bad1f",
   "metadata": {},
   "outputs": [],
   "source": [
    "from dotenv import load_dotenv\n",
    "import os\n",
    "\n",
    "load_dotenv()\n",
    "openai_api_key = os.getenv(\"OPENAI_API_KEY\")"
   ]
  },
  {
   "cell_type": "markdown",
   "id": "225d0d8e",
   "metadata": {},
   "source": [
    "## 📦 Step 2: Import LangChain LLM and PromptTemplate"
   ]
  },
  {
   "cell_type": "code",
   "execution_count": null,
   "id": "560727e6",
   "metadata": {},
   "outputs": [],
   "source": [
    "from langchain.llms import OpenAI\n",
    "from langchain.prompts import PromptTemplate"
   ]
  },
  {
   "cell_type": "markdown",
   "id": "4dccdd9a",
   "metadata": {},
   "source": [
    "## 🧠 Step 3: Define a prompt template"
   ]
  },
  {
   "cell_type": "code",
   "execution_count": null,
   "id": "67e74d91",
   "metadata": {},
   "outputs": [],
   "source": [
    "prompt = PromptTemplate(\n",
    "    input_variables=[\"question\"],\n",
    "    template=\"Answer this question: {question}\"\n",
    ")"
   ]
  },
  {
   "cell_type": "markdown",
   "id": "54d0a58f",
   "metadata": {},
   "source": [
    "## 🔗 Step 4: Create the LangChain pipeline"
   ]
  },
  {
   "cell_type": "code",
   "execution_count": null,
   "id": "077390c4",
   "metadata": {},
   "outputs": [],
   "source": [
    "llm = OpenAI(api_key=openai_api_key)\n",
    "chain = prompt | llm"
   ]
  },
  {
   "cell_type": "markdown",
   "id": "ae4137a7",
   "metadata": {},
   "source": [
    "## 🚀 Step 5: Run your first question"
   ]
  },
  {
   "cell_type": "code",
   "execution_count": null,
   "id": "f5e78d27",
   "metadata": {},
   "outputs": [],
   "source": [
    "response = chain.invoke({\"question\": \"What is the capital of France?\"})\n",
    "print(\"Response:\", response)"
   ]
  }
 ],
 "metadata": {
  "kernelspec": {
   "display_name": ".venv",
   "language": "python",
   "name": "python3"
  },
  "language_info": {
   "name": "python",
   "version": "3.11.9"
  }
 },
 "nbformat": 4,
 "nbformat_minor": 5
}
