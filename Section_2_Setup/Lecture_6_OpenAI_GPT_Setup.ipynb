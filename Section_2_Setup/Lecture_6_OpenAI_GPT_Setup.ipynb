{
 "cells": [
  {
   "cell_type": "markdown",
   "id": "0f9b1242",
   "metadata": {},
   "source": [
    "# 🔐 Lecture 4: OpenAI GPT Setup and Configuration"
   ]
  },
  {
   "cell_type": "markdown",
   "id": "f53bafb0",
   "metadata": {},
   "source": [
    "## 📁 Step 1: Load your `.env` file containing the OpenAI API Key\n",
    "Make sure you've already created a `.env` file with the following content:\n",
    "```env\n",
    "OPENAI_API_KEY=your-openai-key-here\n",
    "```"
   ]
  },
  {
   "cell_type": "code",
   "execution_count": null,
   "id": "735cafc3",
   "metadata": {},
   "outputs": [],
   "source": [
    "from dotenv import load_dotenv\n",
    "import os\n",
    "\n",
    "load_dotenv()\n",
    "openai_api_key = os.getenv(\"OPENAI_API_KEY\")\n",
    "print(\"✅ OpenAI API key loaded:\", openai_api_key[:5] + \"...\" if openai_api_key else \"❌ Not found\")"
   ]
  },
  {
   "cell_type": "markdown",
   "id": "a70b0d75",
   "metadata": {},
   "source": [
    "## 🤖 Step 2: Initialize OpenAI LLM using LangChain and test a prompt"
   ]
  },
  {
   "cell_type": "code",
   "execution_count": null,
   "id": "998409c4",
   "metadata": {},
   "outputs": [],
   "source": [
    "from langchain.llms import OpenAI\n",
    "\n",
    "llm = OpenAI(api_key=openai_api_key)\n",
    "response = llm(\"What is 2 + 2?\")\n",
    "print(\"Response from GPT-4:\", response)"
   ]
  }
 ],
 "metadata": {
  "kernelspec": {
   "display_name": ".venv",
   "language": "python",
   "name": "python3"
  },
  "language_info": {
   "name": "python",
   "version": "3.11.9"
  }
 },
 "nbformat": 4,
 "nbformat_minor": 5
}
